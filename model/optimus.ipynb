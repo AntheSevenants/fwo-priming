{
 "cells": [
  {
   "cell_type": "code",
   "execution_count": null,
   "id": "9707a8ef",
   "metadata": {},
   "outputs": [],
   "source": [
    "import model.model"
   ]
  },
  {
   "cell_type": "code",
   "execution_count": null,
   "id": "7e87b5ac",
   "metadata": {},
   "outputs": [],
   "source": [
    "NUM_AGENTS = 25\n",
    "NUM_STEPS = 1000\n",
    "\n",
    "priming_model = model.model.PrimingModel(NUM_AGENTS)\n",
    "\n",
    "for step in range(NUM_STEPS):\n",
    "    priming_model.step()"
   ]
  },
  {
   "cell_type": "code",
   "execution_count": null,
   "id": "51d8a00a",
   "metadata": {},
   "outputs": [],
   "source": []
  }
 ],
 "metadata": {
  "kernelspec": {
   "display_name": "venv",
   "language": "python",
   "name": "python3"
  },
  "language_info": {
   "name": "python",
   "version": "3.12.9"
  }
 },
 "nbformat": 4,
 "nbformat_minor": 5
}
